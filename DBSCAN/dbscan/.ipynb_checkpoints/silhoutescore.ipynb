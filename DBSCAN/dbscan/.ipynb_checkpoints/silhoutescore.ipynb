{
 "cells": [
  {
   "cell_type": "code",
   "execution_count": 1,
   "metadata": {},
   "outputs": [],
   "source": [
    "from sklearn.cluster import DBSCAN\n",
    "from sklearn.metrics import silhouette_score\n",
    "import numpy as np\n",
    "import pandas as pd"
   ]
  },
  {
   "cell_type": "code",
   "execution_count": 4,
   "metadata": {},
   "outputs": [
    {
     "name": "stdout",
     "output_type": "stream",
     "text": [
      "     datetime  room\n",
      "0  1625629952   3.0\n",
      "1  1625629952   3.0\n",
      "2  1625633520   3.0\n",
      "3  1625648400   3.0\n",
      "4  1625648400   4.0\n"
     ]
    }
   ],
   "source": [
    "# read in the CSV file as a DataFrame\n",
    "data = pd.read_csv(\"exported.csv\")\n",
    "\n",
    "# select the datetime and room number columns and convert datetime to epoch time\n",
    "X = data[[\"datetime\", \"room\"]]\n",
    "\n",
    "# print the first few rows of the data matrix\n",
    "print(X.head())"
   ]
  },
  {
   "cell_type": "code",
   "execution_count": 14,
   "metadata": {},
   "outputs": [
    {
     "name": "stdout",
     "output_type": "stream",
     "text": [
      "Optimal epsilon: 1.0099999999999996\n",
      "Silhouette score: 0.9992097772263954\n"
     ]
    }
   ],
   "source": [
    "# define a range of epsilon values to test\n",
    "epsilon_range = np.arange(0.1, 2, 0.01)\n",
    "\n",
    "# initialize variables to store the optimal epsilon and its corresponding silhouette score\n",
    "optimal_epsilon = None\n",
    "max_silhouette_score = -1\n",
    "\n",
    "# loop over the range of epsilon values and compute the silhouette score for each one\n",
    "for epsilon in epsilon_range:\n",
    "    dbscan = DBSCAN(eps=epsilon, min_samples=2).fit(X)\n",
    "    labels = dbscan.labels_\n",
    "    silhouette_avg = silhouette_score(X, labels)\n",
    "    \n",
    "    # update the optimal epsilon and silhouette score if a better one is found\n",
    "    if silhouette_avg > max_silhouette_score:\n",
    "        max_silhouette_score = silhouette_avg\n",
    "        optimal_epsilon = epsilon\n",
    "\n",
    "# print the optimal epsilon and its corresponding silhouette score\n",
    "print(\"Optimal epsilon:\", optimal_epsilon)\n",
    "print(\"Silhouette score:\", max_silhouette_score)"
   ]
  }
 ],
 "metadata": {
  "kernelspec": {
   "display_name": "Python 3",
   "language": "python",
   "name": "python3"
  },
  "language_info": {
   "codemirror_mode": {
    "name": "ipython",
    "version": 3
   },
   "file_extension": ".py",
   "mimetype": "text/x-python",
   "name": "python",
   "nbconvert_exporter": "python",
   "pygments_lexer": "ipython3",
   "version": "3.10.5"
  },
  "orig_nbformat": 4
 },
 "nbformat": 4,
 "nbformat_minor": 2
}
